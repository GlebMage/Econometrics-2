{
 "cells": [
  {
   "cell_type": "code",
   "execution_count": 36,
   "id": "67434044-8407-47cc-8fb0-1a3d5415d3b9",
   "metadata": {},
   "outputs": [],
   "source": [
    "import numpy as np\n",
    "import pandas as pd\n",
    "from scipy import stats"
   ]
  },
  {
   "cell_type": "code",
   "execution_count": 48,
   "id": "7b1560c3-3771-4560-9222-71a6fc847e75",
   "metadata": {},
   "outputs": [],
   "source": [
    "n = 800\n",
    "mean = [0, 0]\n",
    "cov = [[1, 0.75], [0.75, 1]] # корреляция = 0.75"
   ]
  },
  {
   "cell_type": "code",
   "execution_count": 50,
   "id": "9a935317-11db-47f3-ba64-4e7af9337d61",
   "metadata": {},
   "outputs": [],
   "source": [
    "df = np.random.multivariate_normal(mean, cov, size=n)\n",
    "uniform_df = stats.norm.cdf(df)\n",
    "\n",
    "column1 = stats.norm.ppf(uniform_df[:, 0], loc=0, scale=1)\n",
    "column2 = stats.expon.ppf(uniform_df[:, 1], scale=1)  # scale = 1/λ\n",
    "\n",
    "df = pd.DataFrame({\"x2\": column1, \"x3\": column2})"
   ]
  },
  {
   "cell_type": "code",
   "execution_count": 52,
   "id": "95eb0cd4-fa2e-46df-b429-5dc27ef2414f",
   "metadata": {},
   "outputs": [
    {
     "data": {
      "text/plain": [
       "0.6769871591813026"
      ]
     },
     "execution_count": 52,
     "metadata": {},
     "output_type": "execute_result"
    }
   ],
   "source": [
    "df['x2'].corr(df['x3'])"
   ]
  },
  {
   "cell_type": "markdown",
   "id": "a1ef77d7-b902-4aad-a43e-953094325912",
   "metadata": {},
   "source": [
    "**Я сгенерировал x2 и x3 из разных распределений (нормальное и экспоненциальное), при этом заранее задал желаемую корреляцию, использовав преобразование в равномерное распределение). Из-за специфики распределений корреляция чуть меньше желаемой, но все равно высокая**"
   ]
  },
  {
   "cell_type": "code",
   "execution_count": 66,
   "id": "ca279d15-8a30-460c-99be-5a48b00b4e47",
   "metadata": {},
   "outputs": [
    {
     "data": {
      "text/plain": [
       "0.9816365230850157"
      ]
     },
     "execution_count": 66,
     "metadata": {},
     "output_type": "execute_result"
    }
   ],
   "source": [
    "df['x3'].mean()"
   ]
  },
  {
   "cell_type": "code",
   "execution_count": 68,
   "id": "509edb70-8b1f-4177-b795-796d308c5907",
   "metadata": {},
   "outputs": [
    {
     "data": {
      "text/plain": [
       "0.0051410560153886346"
      ]
     },
     "execution_count": 68,
     "metadata": {},
     "output_type": "execute_result"
    }
   ],
   "source": [
    "df['x2'].mean()"
   ]
  },
  {
   "cell_type": "code",
   "execution_count": 78,
   "id": "1f6f3bf9-1afb-4f48-81dd-0ef1e9bb2900",
   "metadata": {},
   "outputs": [],
   "source": [
    "# латентная переменная\n",
    "# пусть b1 = -0.4, b2 = 0.77, b3 = -0.01, eps - ошибка, пусть она имеет логистическое распределение (0, 1)\n",
    "eps = np.random.logistic(0, 1, n)  # Логистический шум\n",
    "df['y_lat'] = -0.4 + 0.77*df['x2'] - 0.01*df['x3'] + eps"
   ]
  },
  {
   "cell_type": "code",
   "execution_count": 80,
   "id": "7bd4f713-1298-439f-b039-b82de1a397b2",
   "metadata": {},
   "outputs": [
    {
     "data": {
      "text/html": [
       "<div>\n",
       "<style scoped>\n",
       "    .dataframe tbody tr th:only-of-type {\n",
       "        vertical-align: middle;\n",
       "    }\n",
       "\n",
       "    .dataframe tbody tr th {\n",
       "        vertical-align: top;\n",
       "    }\n",
       "\n",
       "    .dataframe thead th {\n",
       "        text-align: right;\n",
       "    }\n",
       "</style>\n",
       "<table border=\"1\" class=\"dataframe\">\n",
       "  <thead>\n",
       "    <tr style=\"text-align: right;\">\n",
       "      <th></th>\n",
       "      <th>x2</th>\n",
       "      <th>x3</th>\n",
       "      <th>y_lat</th>\n",
       "      <th>y_bin</th>\n",
       "    </tr>\n",
       "  </thead>\n",
       "  <tbody>\n",
       "    <tr>\n",
       "      <th>0</th>\n",
       "      <td>0.551034</td>\n",
       "      <td>0.675314</td>\n",
       "      <td>1.782376</td>\n",
       "      <td>1</td>\n",
       "    </tr>\n",
       "    <tr>\n",
       "      <th>1</th>\n",
       "      <td>-0.264453</td>\n",
       "      <td>0.268328</td>\n",
       "      <td>0.340538</td>\n",
       "      <td>0</td>\n",
       "    </tr>\n",
       "    <tr>\n",
       "      <th>2</th>\n",
       "      <td>0.455592</td>\n",
       "      <td>0.990988</td>\n",
       "      <td>-0.025076</td>\n",
       "      <td>0</td>\n",
       "    </tr>\n",
       "    <tr>\n",
       "      <th>3</th>\n",
       "      <td>0.853508</td>\n",
       "      <td>0.743261</td>\n",
       "      <td>1.011323</td>\n",
       "      <td>1</td>\n",
       "    </tr>\n",
       "    <tr>\n",
       "      <th>4</th>\n",
       "      <td>0.680034</td>\n",
       "      <td>1.123660</td>\n",
       "      <td>0.486977</td>\n",
       "      <td>1</td>\n",
       "    </tr>\n",
       "    <tr>\n",
       "      <th>...</th>\n",
       "      <td>...</td>\n",
       "      <td>...</td>\n",
       "      <td>...</td>\n",
       "      <td>...</td>\n",
       "    </tr>\n",
       "    <tr>\n",
       "      <th>795</th>\n",
       "      <td>0.516978</td>\n",
       "      <td>1.500120</td>\n",
       "      <td>1.300517</td>\n",
       "      <td>0</td>\n",
       "    </tr>\n",
       "    <tr>\n",
       "      <th>796</th>\n",
       "      <td>-0.699562</td>\n",
       "      <td>0.124314</td>\n",
       "      <td>-0.018655</td>\n",
       "      <td>0</td>\n",
       "    </tr>\n",
       "    <tr>\n",
       "      <th>797</th>\n",
       "      <td>-0.379718</td>\n",
       "      <td>0.655181</td>\n",
       "      <td>5.167327</td>\n",
       "      <td>0</td>\n",
       "    </tr>\n",
       "    <tr>\n",
       "      <th>798</th>\n",
       "      <td>0.169328</td>\n",
       "      <td>0.713488</td>\n",
       "      <td>0.062040</td>\n",
       "      <td>0</td>\n",
       "    </tr>\n",
       "    <tr>\n",
       "      <th>799</th>\n",
       "      <td>0.850093</td>\n",
       "      <td>1.479992</td>\n",
       "      <td>0.111387</td>\n",
       "      <td>1</td>\n",
       "    </tr>\n",
       "  </tbody>\n",
       "</table>\n",
       "<p>800 rows × 4 columns</p>\n",
       "</div>"
      ],
      "text/plain": [
       "           x2        x3     y_lat  y_bin\n",
       "0    0.551034  0.675314  1.782376      1\n",
       "1   -0.264453  0.268328  0.340538      0\n",
       "2    0.455592  0.990988 -0.025076      0\n",
       "3    0.853508  0.743261  1.011323      1\n",
       "4    0.680034  1.123660  0.486977      1\n",
       "..        ...       ...       ...    ...\n",
       "795  0.516978  1.500120  1.300517      0\n",
       "796 -0.699562  0.124314 -0.018655      0\n",
       "797 -0.379718  0.655181  5.167327      0\n",
       "798  0.169328  0.713488  0.062040      0\n",
       "799  0.850093  1.479992  0.111387      1\n",
       "\n",
       "[800 rows x 4 columns]"
      ]
     },
     "execution_count": 80,
     "metadata": {},
     "output_type": "execute_result"
    }
   ],
   "source": [
    "df"
   ]
  },
  {
   "cell_type": "code",
   "execution_count": 82,
   "id": "955d8835-c839-4ca3-a456-41bd475b76bf",
   "metadata": {},
   "outputs": [],
   "source": [
    "#бинарная переменная\n",
    "df['y_bin'] = df['y_lat'].apply(lambda x: 1 if x>0 else 0)"
   ]
  },
  {
   "cell_type": "code",
   "execution_count": 84,
   "id": "52bcd25f-0f8d-41c6-98c3-625ac82a006d",
   "metadata": {},
   "outputs": [
    {
     "data": {
      "text/plain": [
       "y_bin\n",
       "0    490\n",
       "1    310\n",
       "Name: count, dtype: int64"
      ]
     },
     "execution_count": 84,
     "metadata": {},
     "output_type": "execute_result"
    }
   ],
   "source": [
    "df['y_bin'].value_counts()"
   ]
  },
  {
   "cell_type": "markdown",
   "id": "630281e7-adea-4e93-a389-24fd23cda6a5",
   "metadata": {},
   "source": [
    "# b)"
   ]
  },
  {
   "cell_type": "markdown",
   "id": "84c7fec2-2c67-49be-ae0f-500f40388e64",
   "metadata": {},
   "source": [
    "**Хотим оптимизировать такую функцию**"
   ]
  },
  {
   "attachments": {
    "878b7f49-1c9d-40a5-a334-cf40eb36ea0d.PNG": {
     "image/png": "[encoded data removed]"
    }
   },
   "cell_type": "markdown",
   "id": "36a049aa-0bcd-4760-9be4-b02ec1d7ee25",
   "metadata": {},
   "source": [
    "![log_l.PNG](attachment:878b7f49-1c9d-40a5-a334-cf40eb36ea0d.PNG)"
   ]
  },
  {
   "cell_type": "code",
   "execution_count": 462,
   "id": "f41c382f-d3d6-4d34-9de7-85d42537a6eb",
   "metadata": {},
   "outputs": [],
   "source": [
    "from scipy.optimize import minimize\n",
    "def ln_likelihood(b, X, y): #b - матрица коэффициентов\n",
    "    y_hat = b[0] + b[1]*X.iloc[: ,0] + b[2]*X.iloc[: ,1]\n",
    "    p = 1/(1+np.exp(-y_hat))\n",
    "    ln_l = np.sum(y * np.log(p + 1e-10) + (1 - y) * np.log(1 - p + 1e-10)) # я прочитал, что для лучшей сходимости и исключения случаев ln(0) принято добавлять 1e-10(мал число)\n",
    "    func = -ln_l #в scipy optimize реализована минимизация, поэтому используем -ln(L), это эквивалентно максимизации ln(L)\n",
    "    return func"
   ]
  },
  {
   "cell_type": "code",
   "execution_count": 464,
   "id": "88e2a486-73d6-4788-bbaf-611e73a3f29a",
   "metadata": {},
   "outputs": [],
   "source": [
    "X = df[['x2', 'x3']]\n",
    "y = df['y_bin']"
   ]
  },
  {
   "cell_type": "code",
   "execution_count": 466,
   "id": "4895f651-7ffe-4a29-9377-7649b1760b05",
   "metadata": {},
   "outputs": [],
   "source": [
    "start_b = [0, 0, 0] # задаю стартовые b для оптимизации, принято начинать с 0 (константное предсказание)\n",
    "result = minimize(ln_likelihood, start_b, args=(X, y), method='BFGS')\n",
    "b_opt = result.x\n",
    "#return b_opt"
   ]
  },
  {
   "cell_type": "code",
   "execution_count": 107,
   "id": "241d8ab7-20df-4239-b3af-9684e32569fa",
   "metadata": {},
   "outputs": [
    {
     "data": {
      "text/plain": [
       "array([-0.46376484,  0.7578168 , -0.05200798])"
      ]
     },
     "execution_count": 107,
     "metadata": {},
     "output_type": "execute_result"
    }
   ],
   "source": [
    "b_opt"
   ]
  },
  {
   "cell_type": "code",
   "execution_count": 488,
   "id": "51ea4f50-4764-48ec-b7a7-d10fd12bf605",
   "metadata": {},
   "outputs": [
    {
     "name": "stdout",
     "output_type": "stream",
     "text": [
      "Optimization terminated successfully.\n",
      "         Current function value: 0.616332\n",
      "         Iterations 5\n"
     ]
    }
   ],
   "source": [
    "# считаю оценки готовой функцией\n",
    "\n",
    "import statsmodels.api as sm\n",
    "X_sm = X.copy()\n",
    "X_sm = sm.add_constant(X_sm)\n",
    "y_sm = y.copy()\n",
    "\n",
    "logit = sm.Logit(y_sm, X_sm)\n",
    "result = logit.fit()"
   ]
  },
  {
   "cell_type": "code",
   "execution_count": 490,
   "id": "a0591477-2d60-4252-a619-d88bf91b3c9c",
   "metadata": {
    "scrolled": true
   },
   "outputs": [
    {
     "data": {
      "text/plain": [
       "const   -0.463765\n",
       "x2       0.757817\n",
       "x3      -0.052008\n",
       "dtype: float64"
      ]
     },
     "execution_count": 490,
     "metadata": {},
     "output_type": "execute_result"
    }
   ],
   "source": [
    "result.params"
   ]
  },
  {
   "cell_type": "code",
   "execution_count": 492,
   "id": "f61e27cc-a4b6-4055-9133-cbd7c1e64093",
   "metadata": {},
   "outputs": [
    {
     "data": {
      "text/plain": [
       "<statsmodels.discrete.discrete_model.BinaryResultsWrapper at 0x2c80c183c50>"
      ]
     },
     "execution_count": 492,
     "metadata": {},
     "output_type": "execute_result"
    }
   ],
   "source": [
    "result"
   ]
  },
  {
   "cell_type": "markdown",
   "id": "f68b53f2-7c10-419a-8187-81fc0914e04a",
   "metadata": {},
   "source": [
    "**Результаты идентичны**"
   ]
  },
  {
   "cell_type": "code",
   "execution_count": 116,
   "id": "5c914030-882c-4ad3-b6d2-b5565d528181",
   "metadata": {},
   "outputs": [
    {
     "name": "stdout",
     "output_type": "stream",
     "text": [
      "                           Logit Regression Results                           \n",
      "==============================================================================\n",
      "Dep. Variable:                  y_bin   No. Observations:                  800\n",
      "Model:                          Logit   Df Residuals:                      797\n",
      "Method:                           MLE   Df Model:                            2\n",
      "Date:                Sun, 27 Apr 2025   Pseudo R-squ.:                 0.07682\n",
      "Time:                        19:23:54   Log-Likelihood:                -493.07\n",
      "converged:                       True   LL-Null:                       -534.09\n",
      "Covariance Type:            nonrobust   LLR p-value:                 1.520e-18\n",
      "==============================================================================\n",
      "                 coef    std err          z      P>|z|      [0.025      0.975]\n",
      "------------------------------------------------------------------------------\n",
      "const         -0.4638      0.125     -3.711      0.000      -0.709      -0.219\n",
      "x2             0.7578      0.114      6.643      0.000       0.534       0.981\n",
      "x3            -0.0520      0.104     -0.501      0.616      -0.255       0.151\n",
      "==============================================================================\n"
     ]
    }
   ],
   "source": [
    "print(result.summary())"
   ]
  },
  {
   "cell_type": "markdown",
   "id": "c63365e8-8b30-4586-ac88-9c2e726c7056",
   "metadata": {},
   "source": [
    "# c)"
   ]
  },
  {
   "cell_type": "markdown",
   "id": "33dfbf6d-dff9-487c-bcac-e361d1c4ca4d",
   "metadata": {},
   "source": [
    "Предельный эффект для класса 1 вычисляем следующим образом:"
   ]
  },
  {
   "attachments": {
    "0b2a329e-64a8-4d92-b9c4-1e91ca11562b.PNG": {
     "image/png": "[encoded data removed]"
    }
   },
   "cell_type": "markdown",
   "id": "45feb714-e0bd-43f3-ac4c-5438d3326466",
   "metadata": {},
   "source": [
    "![me.PNG](attachment:0b2a329e-64a8-4d92-b9c4-1e91ca11562b.PNG)"
   ]
  },
  {
   "cell_type": "markdown",
   "id": "d5df6c7e-dd5c-4911-b617-ce6bc03f38f3",
   "metadata": {},
   "source": [
    "Здесь мы пользуемся свойством логистического распределения, что f = F(1-F), где f - функция плотности, F - функция распределения"
   ]
  },
  {
   "cell_type": "markdown",
   "id": "fe2e49ab-e3eb-4a87-b668-a6f8dc2a0332",
   "metadata": {},
   "source": [
    "Предельный эффект для класса 0 можем рассчитать как отрицательный предельный эффект для класса 1, так как при изменении вероятности попадания в 1 класс вероятность попадания в другой изменяется в противоположную сторону эквивалентно"
   ]
  },
  {
   "cell_type": "code",
   "execution_count": 149,
   "id": "35ee9f15-3e72-4cd3-9cb6-c459354beaec",
   "metadata": {},
   "outputs": [],
   "source": [
    "def marginal_effects(X, b):\n",
    "\n",
    "    X = np.asarray(X)\n",
    "    b = np.asarray(b)\n",
    "    \n",
    "    Xb = X @ b\n",
    "    \n",
    "    p1 = 1 / (1 + np.exp(-Xb))\n",
    "    \n",
    "    margeffect_1 = b.reshape(1, -1) * (p1 * (1 - p1)).reshape(-1, 1)\n",
    "    \n",
    "    margeffect_0 = -margeffect_1\n",
    "    \n",
    "    return margeffect_1, margeffect_0"
   ]
  },
  {
   "cell_type": "code",
   "execution_count": 155,
   "id": "6fb53bbd-bfe9-4e97-87aa-95f3e54b12b7",
   "metadata": {},
   "outputs": [],
   "source": [
    "margeffect_1, margeffect_0 = marginal_effects(X_sm, result.params)"
   ]
  },
  {
   "cell_type": "code",
   "execution_count": 161,
   "id": "90aedad0-0e9b-4a2e-a06a-8d4aa03db951",
   "metadata": {},
   "outputs": [],
   "source": [
    "# средние предельные эффекты для const, x2, x3"
   ]
  },
  {
   "cell_type": "code",
   "execution_count": 157,
   "id": "d4ccffae-a7f4-4a50-a5ce-6825a30abb5d",
   "metadata": {},
   "outputs": [
    {
     "name": "stdout",
     "output_type": "stream",
     "text": [
      "[-0.09921709  0.16212606 -0.01112649]\n"
     ]
    }
   ],
   "source": [
    "print(np.mean(margeffect_1, axis=0))"
   ]
  },
  {
   "cell_type": "code",
   "execution_count": 159,
   "id": "48ce18a4-9e59-4490-9a4b-76d62971b13f",
   "metadata": {},
   "outputs": [
    {
     "name": "stdout",
     "output_type": "stream",
     "text": [
      "[ 0.09921709 -0.16212606  0.01112649]\n"
     ]
    }
   ],
   "source": [
    "print(np.mean(margeffect_0, axis=0))"
   ]
  },
  {
   "cell_type": "markdown",
   "id": "de585441-e6f6-4808-90f8-c47ed74e4cfc",
   "metadata": {},
   "source": [
    "**Полная функция для расчета предельных эффектов, их стандартных ошибок, z-статистик и p-value для проверки значимости коэфов**:"
   ]
  },
  {
   "cell_type": "code",
   "execution_count": 449,
   "id": "b0a5ad68-36c4-4753-9b1e-b852a4e88d45",
   "metadata": {},
   "outputs": [],
   "source": [
    "def marginal_effects_etc(X, model_results):\n",
    "\n",
    "    X = np.asarray(X)\n",
    "    if X.ndim == 1:\n",
    "        X = X.reshape(-1, 1)\n",
    "    \n",
    "    b = np.asarray(model_results.params)\n",
    "    if b.ndim > 1:\n",
    "        b = b.flatten()\n",
    "\n",
    "    Xb = X @ b\n",
    "    \n",
    "    p = 1 / (1 + np.exp(-Xb))\n",
    "    \n",
    "    ame = np.mean((p * (1 - p)).reshape(-1, 1) * X, axis=0) #считаю средний предельный эффект\n",
    "    \n",
    "    cov_b = model_results.cov_params()\n",
    "    if cov_b.ndim != 2:\n",
    "        cov_b = cov_b.reshape(len(b), len(b))\n",
    "    \n",
    "    P = p * (1 - p)\n",
    "    dP = p * (1 - p) * (1 - 2*p) #дельта метод\n",
    "    grad = np.zeros((len(b), len(b))) #делаю матрицу 3 на 3\n",
    "    for j in range(len(b)):\n",
    "        grad[j] = np.mean(P[:, np.newaxis] * X[:, j][:, np.newaxis] * X + dP[:, np.newaxis] * Xb[:, np.newaxis] * X[:, j][:, np.newaxis] * X, axis=0)    \n",
    "    cov_ame = grad.dot(cov_b).dot(grad.T) # ков матрица предельных эффектов\n",
    "    \n",
    "    std_errors = np.sqrt(np.diag(cov_ame))\n",
    "    \n",
    "    z_stats = ame / std_errors\n",
    "    \n",
    "    p_values = 2 * (1 - stats.norm.cdf(np.abs(z_stats)))\n",
    "    \n",
    "    return {\n",
    "        'marginal_effects': ame,\n",
    "        'std_errors': std_errors,\n",
    "        'z_stats': z_stats,\n",
    "        'p_values': p_values\n",
    "    }"
   ]
  },
  {
   "cell_type": "code",
   "execution_count": 451,
   "id": "f6f30159-2bec-40f2-8ab7-413942ac6a04",
   "metadata": {},
   "outputs": [
    {
     "data": {
      "text/plain": [
       "const   -0.463765\n",
       "x2       0.757817\n",
       "x3      -0.052008\n",
       "dtype: float64"
      ]
     },
     "execution_count": 451,
     "metadata": {},
     "output_type": "execute_result"
    }
   ],
   "source": [
    "result.params"
   ]
  },
  {
   "cell_type": "code",
   "execution_count": 453,
   "id": "b28832fa-80b6-4e74-ac16-5ac36b16d564",
   "metadata": {},
   "outputs": [],
   "source": [
    "effects = marginal_effects_etc(X_sm, result)"
   ]
  },
  {
   "cell_type": "code",
   "execution_count": 455,
   "id": "08183c79-2315-49a5-b9bd-a1de35a4affa",
   "metadata": {},
   "outputs": [
    {
     "data": {
      "text/plain": [
       "{'marginal_effects': array([0.21393834, 0.02969943, 0.22382702]),\n",
       " 'std_errors': array([0.01270277, 0.00826443, 0.01976031]),\n",
       " 'z_stats': array([16.84186446,  3.59364397, 11.32710168]),\n",
       " 'p_values': array([0.        , 0.00032609, 0.        ])}"
      ]
     },
     "execution_count": 455,
     "metadata": {},
     "output_type": "execute_result"
    }
   ],
   "source": [
    "effects"
   ]
  },
  {
   "cell_type": "markdown",
   "id": "0c6a515e-4447-4850-84d6-64f4a31c3e4b",
   "metadata": {},
   "source": [
    "## Красивый вывод с помощью таблицы"
   ]
  },
  {
   "cell_type": "markdown",
   "id": "bbcdc459-b5d0-4f85-a916-03a0c58601ec",
   "metadata": {},
   "source": [
    "Я не знал как делать такие таблички, поэтому сгенерировал с помощью нейросети"
   ]
  },
  {
   "cell_type": "code",
   "execution_count": 459,
   "id": "a0eae3fd-0c0e-44e8-aacb-1f20cb171296",
   "metadata": {},
   "outputs": [
    {
     "name": "stdout",
     "output_type": "stream",
     "text": [
      "+------------+----------+------------+-----------+----------+\n",
      "| Variable   |    Coef. |   Std.Err. |    z-stat |    P>|z| |\n",
      "+============+==========+============+===========+==========+\n",
      "| const      | 0.213938 |   0.012703 | 16.841864 | 0.000000 |\n",
      "+------------+----------+------------+-----------+----------+\n",
      "| x2         | 0.029699 |   0.008264 |  3.593644 | 0.000326 |\n",
      "+------------+----------+------------+-----------+----------+\n",
      "| x3         | 0.223827 |   0.019760 | 11.327102 | 0.000000 |\n",
      "+------------+----------+------------+-----------+----------+\n"
     ]
    }
   ],
   "source": [
    "from tabulate import tabulate\n",
    "\n",
    "\n",
    "variables = ['const', 'x2', 'x3']\n",
    "\n",
    "table_data = []\n",
    "for i, var in enumerate(variables):\n",
    "    row = [\n",
    "        var,\n",
    "        f\"{effects['marginal_effects'][i]:.6f}\",\n",
    "        f\"{effects['std_errors'][i]:.6f}\",\n",
    "        f\"{effects['z_stats'][i]:.6f}\",\n",
    "        f\"{effects['p_values'][i]:.6f}\"\n",
    "    ]\n",
    "    table_data.append(row)\n",
    "\n",
    "headers = [\n",
    "    \"Variable\", \n",
    "    \"Coef.\", \n",
    "    \"Std.Err.\", \n",
    "    \"z-stat\", \n",
    "    \"P>|z|\"\n",
    "]\n",
    "\n",
    "print(tabulate(table_data, headers=headers, tablefmt=\"grid\", floatfmt=\".6f\"))"
   ]
  },
  {
   "cell_type": "code",
   "execution_count": null,
   "id": "0562da19-7c8f-4461-aa07-11ef1dc469f9",
   "metadata": {},
   "outputs": [],
   "source": []
  },
  {
   "cell_type": "markdown",
   "id": "2310ea4c-eb81-4917-a90e-2138ed73e923",
   "metadata": {},
   "source": [
    "# d)"
   ]
  },
  {
   "cell_type": "markdown",
   "id": "f490b5b5-2f6a-4593-91d7-b85cc9788b65",
   "metadata": {},
   "source": [
    "Далее в тестах понадобится логарифм правдоподобия, поэтому я написал отдельную функцию для его вычисления"
   ]
  },
  {
   "cell_type": "code",
   "execution_count": 205,
   "id": "933f8165-cbbb-4b59-a338-a6e32997ee5a",
   "metadata": {},
   "outputs": [],
   "source": [
    "def logit_loglikelihood(b, X, y): #аргументы: b - оценки коэффициентов модели(вектор), X - матрица объекты-признаки, y - вектор объясняемой переменной (бинарная)  \n",
    "    Xb = X @ b\n",
    "    loglike = np.sum(y * Xb - np.log(1 + np.exp(Xb))) # вычисляю логарифм правдоподобия(ниже описал формулу)\n",
    "    return loglike"
   ]
  },
  {
   "cell_type": "markdown",
   "id": "0126fc4b-3555-4e98-b3f7-eaa9270774e1",
   "metadata": {},
   "source": [
    "loglike считаю именно так для удобства, нашел вот такое преобразование:"
   ]
  },
  {
   "attachments": {
    "88fad06f-60bd-431e-a96a-b304cc4ecb38.PNG": {
     "image/png": "[encoded data removed]"
    }
   },
   "cell_type": "markdown",
   "id": "54dcec56-7e7a-4b6b-ab9a-0f0bd6a6294a",
   "metadata": {},
   "source": [
    "![1.PNG](attachment:88fad06f-60bd-431e-a96a-b304cc4ecb38.PNG)"
   ]
  },
  {
   "cell_type": "markdown",
   "id": "8bcf1901-8c25-4e02-beda-21fdda9db10d",
   "metadata": {},
   "source": [
    "Это привычный вид. Если расписать выражения под логарифмами как разность логарифмов, получится:"
   ]
  },
  {
   "attachments": {
    "6ad2b408-61f4-464f-90b3-029192b4e110.PNG": {
     "image/png": "[encoded data removed]"
    }
   },
   "cell_type": "markdown",
   "id": "3311065e-308f-4f6c-a760-84c1a0cfdaae",
   "metadata": {},
   "source": [
    "![2.PNG](attachment:6ad2b408-61f4-464f-90b3-029192b4e110.PNG)"
   ]
  },
  {
   "cell_type": "markdown",
   "id": "274bbc3b-0839-4cb1-9ff6-b9af1c1bfb25",
   "metadata": {},
   "source": [
    "Раскрываем скобки, получаем:"
   ]
  },
  {
   "attachments": {
    "b9cce8b3-5e97-4b71-b4cb-690531f1f0ec.PNG": {
     "image/png": "[encoded data removed]"
    }
   },
   "cell_type": "markdown",
   "id": "5102a551-ed65-4a06-a553-4e7cbcd0630b",
   "metadata": {},
   "source": [
    "![3.PNG](attachment:b9cce8b3-5e97-4b71-b4cb-690531f1f0ec.PNG)"
   ]
  },
  {
   "cell_type": "markdown",
   "id": "b4724f00-5a3d-4987-9a35-a1daeeff5cde",
   "metadata": {},
   "source": [
    "Что я и считаю в функции"
   ]
  },
  {
   "cell_type": "markdown",
   "id": "f0bb3706-df96-48ba-8fb4-d116dcedab9a",
   "metadata": {},
   "source": [
    "## LR тест"
   ]
  },
  {
   "attachments": {
    "3b355bb1-cc89-4d36-9abb-9f4c2982e02c.PNG": {
     "image/png": "[encoded data removed]"
    }
   },
   "cell_type": "markdown",
   "id": "abb25315-3eb4-4adb-9919-c74b2a43ffd7",
   "metadata": {},
   "source": [
    "![lr.PNG](attachment:3b355bb1-cc89-4d36-9abb-9f4c2982e02c.PNG)"
   ]
  },
  {
   "cell_type": "markdown",
   "id": "acb1349f-7137-43bc-9934-599fa7dc24f0",
   "metadata": {},
   "source": [
    "Если ограничения верны, то значения функций правдоподобия у полной и restricted модели близки, следовательно, статистика близка к 0.\\\n",
    "Статистика будет всегда положительной, так как значение правдоподобия restricted модели не может быть больше значения правдоподобия полной.\\\n",
    "Сравниваем с хи-квадратом, так как при больших выборках разность логарифмов правдоподобий похожа на сумму квадратов нормальных величин (про это раньше не знал, прочитал)"
   ]
  },
  {
   "cell_type": "code",
   "execution_count": 284,
   "id": "c1a3ab9e-022b-4384-85bb-4f7291e40c2e",
   "metadata": {},
   "outputs": [],
   "source": [
    "def lr_test(b_full, b_restr, X, X_restr, y):#аргументы: #аргументы: b_full - оценки коэффициентов исходной модели(вектор), \n",
    "    #b_restr - оценки коэффициентов  модели с ограничениями(вектор), \n",
    "    #X - матрица объекты-признаки, y - вектор объясняемой переменной (бинарная)\n",
    "    ll_full = logit_loglikelihood(b_full, X, y)\n",
    "    ll_restr = logit_loglikelihood(b_restr, X_restr, y)\n",
    "    \n",
    "    LR_stat = 2 * (ll_full - ll_restr)\n",
    "    m = len(b_full) - len(b_restr) #количество ограничений (оно как раз равно разнице между количеством коэфов в двух моделях)\n",
    "    p_value = 1 - chi2.cdf(LR_stat, m) # считаем p_value как 1 - ф.р \n",
    "    \n",
    "    return {'LR_stat': LR_stat, 'p_value': p_value, 'Количество ограничений': m}"
   ]
  },
  {
   "cell_type": "markdown",
   "id": "90225a42-33f0-4701-aaa2-fbc92c9c6f94",
   "metadata": {},
   "source": [
    "## Тест Вальда"
   ]
  },
  {
   "attachments": {
    "019304c3-185d-473a-8e04-442809c07558.PNG": {
     "image/png": "[encoded data removed]"
    }
   },
   "cell_type": "markdown",
   "id": "1573f93f-892c-449a-b0b0-10f0dfd03cdf",
   "metadata": {},
   "source": [
    "![wald.PNG](attachment:019304c3-185d-473a-8e04-442809c07558.PNG)"
   ]
  },
  {
   "cell_type": "markdown",
   "id": "95e65cfa-a447-4415-a691-2dd85611a824",
   "metadata": {},
   "source": [
    "Далее будет нужна ковариационная матрица оценок, вот отдельная функция для ее вычисления:"
   ]
  },
  {
   "cell_type": "code",
   "execution_count": 298,
   "id": "ea5d76af-d760-49ba-afd5-403abcfc4e2e",
   "metadata": {},
   "outputs": [],
   "source": [
    "def cov_apr(b, X):\n",
    "    Xb = X @ b\n",
    "    p = 1 / (1 + np.exp(-Xb))\n",
    "    W = np.diag(p * (1 - p))\n",
    "    cov = np.linalg.inv(X.T @ W @ X)\n",
    "    return cov"
   ]
  },
  {
   "cell_type": "code",
   "execution_count": 294,
   "id": "7ee0e017-cbab-42f0-8e38-5d6842b25c45",
   "metadata": {},
   "outputs": [],
   "source": [
    "def wald_test(b, cov, Q, r): # аргументы: b - оценки коэффициентов модели(вектор), Q - матрица ограничений, r - вектор ограничений\n",
    "    # cov - ковариационная матрица оценок\n",
    "\n",
    "    Qb_minus_r = Q @ b - r\n",
    "    cov_Q = Q @ cov @ Q.T\n",
    "    W_stat = Qb_minus_r.T @ np.linalg.inv(cov_Q) @ Qb_minus_r\n",
    "    \n",
    "    m = Q.shape[0] #количество ограничений\n",
    "    p_value = 1 - chi2.cdf(W_stat, m)\n",
    "    \n",
    "    return {'W_stat': W_stat, 'p_value': p_value, 'Количество ограничений': m}"
   ]
  },
  {
   "cell_type": "markdown",
   "id": "4909c2f1-e9be-4497-9e4e-7911707b1f17",
   "metadata": {},
   "source": [
    "## Тест множителей Лагранжа"
   ]
  },
  {
   "attachments": {
    "c9f5979e-2659-4c2a-a1d6-5d7f1307bf3c.PNG": {
     "image/png": "[encoded data removed]"
    }
   },
   "cell_type": "markdown",
   "id": "a3ebe039-bdd9-49e0-a6e6-f4425084fb0e",
   "metadata": {},
   "source": [
    "![lm.PNG](attachment:c9f5979e-2659-4c2a-a1d6-5d7f1307bf3c.PNG)"
   ]
  },
  {
   "cell_type": "markdown",
   "id": "ec8658b5-662b-410b-95d0-02922b6ef43c",
   "metadata": {},
   "source": [
    "**s** - это вектор градиент логарифма функции правдоподобия."
   ]
  },
  {
   "attachments": {
    "5d23159a-cf20-48a4-9625-81c84e734841.PNG": {
     "image/png": "[encoded data removed]"
    }
   },
   "cell_type": "markdown",
   "id": "3de06ffb-427b-4bb5-8270-b750a5c11058",
   "metadata": {},
   "source": [
    "![grad.PNG](attachment:5d23159a-cf20-48a4-9625-81c84e734841.PNG)"
   ]
  },
  {
   "cell_type": "markdown",
   "id": "a494d3ab-6550-48f0-8dfc-895554ad955d",
   "metadata": {},
   "source": [
    "(тут конкретно для логит модели)"
   ]
  },
  {
   "cell_type": "markdown",
   "id": "c9f39ca1-1d88-46f7-8f16-f02cce28baf9",
   "metadata": {},
   "source": [
    "Идея теста - проверить, насколько верны ограничения. Если они верны, то оцененная вероятность (p) близка к реальному значению (y), следовательно градиент близок к 0"
   ]
  },
  {
   "cell_type": "markdown",
   "id": "c2f478a5-6009-4a1c-8244-c487f76148cc",
   "metadata": {},
   "source": [
    "**I** - информационная матрица Фишера"
   ]
  },
  {
   "attachments": {
    "b98ee304-6bec-4c79-a901-b29aa443f9d1.PNG": {
     "image/png": "[encoded data removed]"
    }
   },
   "cell_type": "markdown",
   "id": "803529b9-bd95-4649-ab52-d14f07987bf0",
   "metadata": {},
   "source": [
    "![I1.PNG](attachment:b98ee304-6bec-4c79-a901-b29aa443f9d1.PNG)"
   ]
  },
  {
   "cell_type": "markdown",
   "id": "47104138-6805-40e8-a812-69998b818855",
   "metadata": {},
   "source": [
    "где **W** - это диагональная матрица весов. По диагонали у нее стоят дисперсии. В бинарной логит модели Var(y) = p(1-p) (как в распределении Бернулли)"
   ]
  },
  {
   "cell_type": "code",
   "execution_count": 304,
   "id": "7cf8e647-38d3-4416-b3e4-295fcfcedf72",
   "metadata": {},
   "outputs": [],
   "source": [
    "def lm_test(b_restr, X, y):\n",
    "    Xb = X @ b_restr\n",
    "    p = 1 / (1 + np.exp(-Xb)) # оценка вероятности\n",
    "    s = X.T @ (y - p) # градиент логарифма правдоподобия\n",
    "    \n",
    "    W = np.diag(p * (1 - p)) # диагональная матрица весов \n",
    "    I = X.T @ W @ X\n",
    "    \n",
    "    LM_stat = s.T @ np.linalg.inv(I) @ s\n",
    "    m = X.shape[1] - len(beta_restricted) # количество ограничений (равно разности количества коэффициентов в полной и restricted модели) (эта версия подходит,\n",
    "    # если проверяем гипотезу о равенстве коэффициентов 0)\n",
    "    p_value = 1 - chi2.cdf(LM_stat, m) # тестовая статистика - хи-квадрат с m степенями свободы\n",
    "    \n",
    "    return {'LM_stat': LM_stat, 'p_value': p_value, 'Количество ограничений': m}"
   ]
  },
  {
   "cell_type": "markdown",
   "id": "ef28fa4c-6df3-4163-a51e-b9d7510fccbd",
   "metadata": {},
   "source": [
    "# e)"
   ]
  },
  {
   "cell_type": "markdown",
   "id": "05a1dd66-0a97-4e18-a7d1-c61bedcace5e",
   "metadata": {},
   "source": [
    "**Проверим гипотезу**\\\n",
    "**H0**: b3 = 0\\\n",
    "**H1**: b3 != 0"
   ]
  },
  {
   "cell_type": "markdown",
   "id": "f9dbeca5-536c-4b78-80a6-ee14230034a5",
   "metadata": {},
   "source": [
    "## LR тест"
   ]
  },
  {
   "cell_type": "markdown",
   "id": "4bb9e101-13f5-4868-8b6d-dd4c87de7be5",
   "metadata": {},
   "source": [
    "Найдем оценки коэффициентов restricted модели:"
   ]
  },
  {
   "cell_type": "code",
   "execution_count": 482,
   "id": "d7412300-5c77-4dc8-9056-aceece6c9a62",
   "metadata": {},
   "outputs": [],
   "source": [
    "X_restr = df[['x2']]"
   ]
  },
  {
   "cell_type": "code",
   "execution_count": 484,
   "id": "9997dd5c-a810-4447-8c10-ec2317631d0d",
   "metadata": {},
   "outputs": [
    {
     "name": "stdout",
     "output_type": "stream",
     "text": [
      "Optimization terminated successfully.\n",
      "         Current function value: 0.616489\n",
      "         Iterations 5\n"
     ]
    }
   ],
   "source": [
    "X_restr_sm = sm.add_constant(X_restr)\n",
    "logit_restr = sm.Logit(y_sm, X_restr_sm)\n",
    "result_restr = logit_restr.fit()"
   ]
  },
  {
   "cell_type": "code",
   "execution_count": 486,
   "id": "0880c4dc-254d-453d-99f0-6bea82abd173",
   "metadata": {},
   "outputs": [
    {
     "data": {
      "text/plain": [
       "<statsmodels.discrete.discrete_model.BinaryResultsWrapper at 0x2c80b7ee840>"
      ]
     },
     "execution_count": 486,
     "metadata": {},
     "output_type": "execute_result"
    }
   ],
   "source": [
    "result_restr"
   ]
  },
  {
   "cell_type": "code",
   "execution_count": 262,
   "id": "b2ef5f41-6c86-410b-9a44-7fcb91f99437",
   "metadata": {},
   "outputs": [],
   "source": [
    "b_restr = np.array(result_restr.params)"
   ]
  },
  {
   "cell_type": "code",
   "execution_count": 264,
   "id": "3006efd4-b769-492a-9db2-3e3b87530db1",
   "metadata": {},
   "outputs": [],
   "source": [
    "b_full = b_opt"
   ]
  },
  {
   "cell_type": "code",
   "execution_count": null,
   "id": "e64014d7-492d-4834-9576-53cc18cbc680",
   "metadata": {},
   "outputs": [],
   "source": []
  },
  {
   "cell_type": "code",
   "execution_count": 280,
   "id": "86498c7c-f767-426b-bcf6-71618f0e7b65",
   "metadata": {},
   "outputs": [],
   "source": [
    "from scipy.stats import chi2"
   ]
  },
  {
   "cell_type": "code",
   "execution_count": 286,
   "id": "ca088487-af41-4350-a14e-47a2f345a265",
   "metadata": {},
   "outputs": [],
   "source": [
    "lr_e = lr_test(b_full, b_restr, X_sm, X_restr_sm, y_sm)"
   ]
  },
  {
   "cell_type": "code",
   "execution_count": 288,
   "id": "a29abc06-3578-4681-aef2-e0a33d79714a",
   "metadata": {},
   "outputs": [
    {
     "data": {
      "text/plain": [
       "{'LR_stat': 0.2505545425102582,\n",
       " 'p_value': 0.6166848774525525,\n",
       " 'Количество ограничений': 1}"
      ]
     },
     "execution_count": 288,
     "metadata": {},
     "output_type": "execute_result"
    }
   ],
   "source": [
    "lr_e"
   ]
  },
  {
   "cell_type": "markdown",
   "id": "bef486ed-b3ad-4230-8371-60f64a5757ad",
   "metadata": {},
   "source": [
    "p_value > 0.05 => **H0 не отвергается, следовательно, переменная x3 не значима в данной модели**"
   ]
  },
  {
   "cell_type": "markdown",
   "id": "a066b55a-83ad-4204-a3b1-417ee45f702c",
   "metadata": {},
   "source": [
    "### Сравнение с готовой функцией"
   ]
  },
  {
   "cell_type": "code",
   "execution_count": null,
   "id": "3362d946-0ced-4235-a528-20b374493bc6",
   "metadata": {},
   "outputs": [],
   "source": []
  },
  {
   "cell_type": "markdown",
   "id": "b7310b78-a73d-46eb-82a1-416bd3005baa",
   "metadata": {},
   "source": [
    "## тест Вальда"
   ]
  },
  {
   "cell_type": "markdown",
   "id": "e964edb3-846e-4528-8de2-fe01064ec530",
   "metadata": {},
   "source": [
    "**Проверим гипотезу**\\\n",
    "**H0**: b2 = 1\\\n",
    "**H1**: b2 != 1"
   ]
  },
  {
   "cell_type": "code",
   "execution_count": 300,
   "id": "72121155-6330-45f3-8dd2-c1a988ac4a90",
   "metadata": {},
   "outputs": [
    {
     "name": "stdout",
     "output_type": "stream",
     "text": [
      "Wald Test: {'W_stat': 4.5070577745060705, 'p_value': 0.033755257563173435, 'Количество ограничений': 1}\n"
     ]
    }
   ],
   "source": [
    "cov = cov_apr(b_full, X_sm)\n",
    "Q = np.array([[0, 1, 0]])  #тестирую b2 = 1\n",
    "r = np.array([1])\n",
    "wald = wald_test(b_full, cov, Q, r)\n",
    "print(\"Wald Test:\", wald)"
   ]
  },
  {
   "cell_type": "markdown",
   "id": "15ff53c1-4b66-437c-af0c-1659727d0055",
   "metadata": {},
   "source": [
    "p_value < 0.05 => **гипотеза о равенстве коэффициента при x2 единице отвергается на 5% уровне значимости**"
   ]
  },
  {
   "cell_type": "markdown",
   "id": "43937661-95ba-4c26-8211-7e77fe956651",
   "metadata": {},
   "source": [
    "### Сравнение с готовой функцией"
   ]
  },
  {
   "cell_type": "code",
   "execution_count": 494,
   "id": "0d7ac2ce-5001-40f8-b88f-9a16082b03ac",
   "metadata": {},
   "outputs": [
    {
     "data": {
      "text/plain": [
       "<statsmodels.discrete.discrete_model.BinaryResultsWrapper at 0x2c80c183c50>"
      ]
     },
     "execution_count": 494,
     "metadata": {},
     "output_type": "execute_result"
    }
   ],
   "source": [
    "result"
   ]
  },
  {
   "cell_type": "code",
   "execution_count": 498,
   "id": "c9cfa2c8-3468-41ba-ba6d-60e1b05974e1",
   "metadata": {},
   "outputs": [
    {
     "name": "stderr",
     "output_type": "stream",
     "text": [
      "C:\\Users\\User\\anaconda3\\Lib\\site-packages\\statsmodels\\base\\model.py:1912: FutureWarning: The behavior of wald_test will change after 0.14 to returning scalar test statistic values. To get the future behavior now, set scalar to True. To silence this message while retaining the legacy behavior, set scalar to False.\n",
      "  warnings.warn(\n"
     ]
    }
   ],
   "source": [
    "h0 = 'x2 = 1'\n",
    "wald_test = result.wald_test(h0)\n"
   ]
  },
  {
   "cell_type": "code",
   "execution_count": 502,
   "id": "34768b7c-16da-4110-ba40-9617a9c56527",
   "metadata": {},
   "outputs": [
    {
     "name": "stdout",
     "output_type": "stream",
     "text": [
      "W_stat [[4.50705864]]\n",
      "p_value = 0.033755240448910304\n"
     ]
    }
   ],
   "source": [
    "print(\"W_stat\", wald_test.statistic)\n",
    "print(\"p_value =\", wald_test.pvalue)"
   ]
  },
  {
   "cell_type": "markdown",
   "id": "4038ee25-455e-412b-b916-2bd91bcc3312",
   "metadata": {},
   "source": [
    "**результаты совпадают!**"
   ]
  },
  {
   "cell_type": "markdown",
   "id": "3971ad52-0c4b-41f4-98f5-e46a1725b6f7",
   "metadata": {},
   "source": [
    "## LM тест"
   ]
  },
  {
   "cell_type": "markdown",
   "id": "302a7ddb-fc7a-43b6-9556-6746977ce672",
   "metadata": {},
   "source": [
    "**Проверим гипотезу**\\\n",
    "**H0**: b2= 1\\\n",
    "**H1**: b2 != 1"
   ]
  },
  {
   "cell_type": "markdown",
   "id": "ed4039cc-c536-4887-bb81-bf8860fef307",
   "metadata": {},
   "source": [
    "Так как я решил проверять гипотезу о равенстве коэффициента числу != 0, указываю m=1"
   ]
  },
  {
   "cell_type": "code",
   "execution_count": null,
   "id": "14c594a7-48ad-40bd-9cb9-8be6393cc701",
   "metadata": {},
   "outputs": [],
   "source": [
    "Также у меня в гипотезе только 1 коэф, поэтому статистику считаем только для b3"
   ]
  },
  {
   "cell_type": "code",
   "execution_count": 342,
   "id": "f9cebd63-5b1e-4a40-b3c1-5525762ce07e",
   "metadata": {},
   "outputs": [],
   "source": [
    "def lm_test_e(b_restr, X, y):\n",
    "    Xb = X @ b_restr\n",
    "    p = 1 / (1 + np.exp(-Xb)) # оценка вероятности\n",
    "    s = X.T @ (y - p) # градиент логарифма правдоподобия\n",
    "\n",
    "    s_b3 = s[2]\n",
    "    \n",
    "    W = np.diag(p * (1 - p)) # диагональная матрица весов \n",
    "    I = X.T @ W @ X\n",
    "    I_inv = np.linalg.inv(I)\n",
    "    I_b3 = I_inv[2, 2]\n",
    "    \n",
    "    LM_stat = (s_b3**2) * I_b3\n",
    "    m = 1\n",
    "    p_value = 1 - chi2.cdf(LM_stat, m) # тестовая статистика - хи-квадрат с m степенями свободы\n",
    "    \n",
    "    return {'LM_stat': LM_stat, 'p_value': p_value, 'Количество ограничений': m}"
   ]
  },
  {
   "cell_type": "markdown",
   "id": "de26ff0f-5fa2-4c2b-b675-d5d8db4a92df",
   "metadata": {},
   "source": [
    "Чтобы обучить restricted модель, я использую ранее написанный подход, только изначально задаю b3=1"
   ]
  },
  {
   "cell_type": "code",
   "execution_count": 345,
   "id": "305dfeda-a85a-4edc-a487-ecc28f963f35",
   "metadata": {},
   "outputs": [],
   "source": [
    "def ln_likelihood_e(b, X, y):\n",
    "    y_hat = b[0] + b[1]*X['x2'] + 1*X['x3']\n",
    "    p = 1/(1 + np.exp(-y_hat))\n",
    "    ln_l = np.sum(y * np.log(p + 1e-10) + (1 - y) * np.log(1 - p + 1e-10))\n",
    "    return -ln_l\n",
    "    \n",
    "start_b = [0, 0] #оцениваем только b1 и b2, поэтому на этот раз 2 значения \n",
    "\n",
    "result = minimize(ln_likelihood_e, start_b, args=(X, y), method='BFGS')\n",
    "b_opt = result.x \n",
    "b_restr = np.array([b_opt[0], b_opt[1], 1.0])"
   ]
  },
  {
   "cell_type": "code",
   "execution_count": 347,
   "id": "6e4b1339-a39a-41e6-93de-4e32b4b2775a",
   "metadata": {},
   "outputs": [
    {
     "name": "stderr",
     "output_type": "stream",
     "text": [
      "C:\\Users\\User\\AppData\\Local\\Temp\\ipykernel_15708\\1654794204.py:6: FutureWarning: Series.__getitem__ treating keys as positions is deprecated. In a future version, integer keys will always be treated as labels (consistent with DataFrame behavior). To access a value by position, use `ser.iloc[pos]`\n",
      "  s_b3 = s[2]\n"
     ]
    }
   ],
   "source": [
    "lm = lm_test_e(b_restr, X_sm, y_sm)"
   ]
  },
  {
   "cell_type": "code",
   "execution_count": 349,
   "id": "c5fc96c6-5751-4dfb-89d2-4690fe2b8014",
   "metadata": {},
   "outputs": [
    {
     "data": {
      "text/plain": [
       "{'LM_stat': 114.7642560073577, 'p_value': 0.0, 'Количество ограничений': 1}"
      ]
     },
     "execution_count": 349,
     "metadata": {},
     "output_type": "execute_result"
    }
   ],
   "source": [
    "lm"
   ]
  },
  {
   "cell_type": "markdown",
   "id": "7609cc43-97a4-4422-b2cb-020fbd661b1f",
   "metadata": {},
   "source": [
    "p_value < 0.05 => **гипотеза о равенстве коэффициента при x2 единице отвергается на 5% уровне значимости**"
   ]
  },
  {
   "cell_type": "markdown",
   "id": "0f8f46ca-7d53-49b4-900f-d6c0c454f3e9",
   "metadata": {},
   "source": [
    "# f)"
   ]
  },
  {
   "cell_type": "markdown",
   "id": "14225cda-8944-4242-bd72-7dfd6bc5bf67",
   "metadata": {},
   "source": [
    "Проверим гипотезу:\\\n",
    "**H0:** b2 + b3 = 0.7\\\n",
    "**H1:** b2 + b3 != 0.7"
   ]
  },
  {
   "cell_type": "markdown",
   "id": "2d7cef54-9e3f-4ce8-8fb1-773803e97459",
   "metadata": {},
   "source": [
    "## LR тест"
   ]
  },
  {
   "cell_type": "code",
   "execution_count": 370,
   "id": "32de29ec-d177-4647-8165-cda853ae2d0f",
   "metadata": {},
   "outputs": [],
   "source": [
    "def ln_likelihood_f(b, X, y):\n",
    "    b2 = 0.5 - b[1]\n",
    "    y_hat = b[0] + b[1]*X['x2'] + b2*X['x3']\n",
    "    p = 1/(1 + np.exp(-y_hat))\n",
    "    ln_l = np.sum(y * np.log(p + 1e-10) + (1 - y) * np.log(1 - p + 1e-10))\n",
    "    return -ln_l\n",
    "    \n",
    "start_b = [0, 0]\n",
    "result = minimize(ln_likelihood_f, start_b, args=(X_sm, y_sm), method='BFGS')\n",
    "b_opt = result.x \n",
    "b_restr = np.array([b_opt[0], b_opt[1], 0.5 - b_opt[1]])"
   ]
  },
  {
   "cell_type": "code",
   "execution_count": 372,
   "id": "cab318a5-8d7b-48aa-9b54-62d19c4f81bb",
   "metadata": {},
   "outputs": [
    {
     "data": {
      "text/plain": [
       "array([-0.36628654,  0.62982995, -0.12982995])"
      ]
     },
     "execution_count": 372,
     "metadata": {},
     "output_type": "execute_result"
    }
   ],
   "source": [
    "b_restr"
   ]
  },
  {
   "cell_type": "code",
   "execution_count": 374,
   "id": "3d336a73-0917-45d5-9e36-87dec5726462",
   "metadata": {},
   "outputs": [],
   "source": [
    "lr_f = lr_test(b_full, b_restr, X_sm, X_sm, y_sm)"
   ]
  },
  {
   "cell_type": "code",
   "execution_count": 376,
   "id": "c7eaabd6-a809-49e4-96a1-caaae327a118",
   "metadata": {},
   "outputs": [
    {
     "data": {
      "text/plain": [
       "{'LR_stat': 5.363601353623494, 'p_value': nan, 'Количество ограничений': 0}"
      ]
     },
     "execution_count": 376,
     "metadata": {},
     "output_type": "execute_result"
    }
   ],
   "source": [
    "lr_f"
   ]
  },
  {
   "cell_type": "code",
   "execution_count": null,
   "id": "b9ec2bf5-5647-4088-9dc4-59878bed4679",
   "metadata": {},
   "outputs": [],
   "source": []
  }
 ],
 "metadata": {
  "kernelspec": {
   "display_name": "Python [conda env:base] *",
   "language": "python",
   "name": "conda-base-py"
  },
  "language_info": {
   "codemirror_mode": {
    "name": "ipython",
    "version": 3
   },
   "file_extension": ".py",
   "mimetype": "text/x-python",
   "name": "python",
   "nbconvert_exporter": "python",
   "pygments_lexer": "ipython3",
   "version": "3.12.3"
  }
 },
 "nbformat": 4,
 "nbformat_minor": 5
}
